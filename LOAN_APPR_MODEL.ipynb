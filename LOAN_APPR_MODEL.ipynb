{
 "cells": [
  {
   "cell_type": "code",
   "execution_count": 1,
   "id": "a27b9355-d5f4-432d-ac6c-dcdf233c523e",
   "metadata": {},
   "outputs": [],
   "source": [
    "import pandas as pd\n",
    "import numpy as np\n",
    "from sklearn.model_selection import train_test_split, cross_val_score, RandomizedSearchCV\n",
    "from sklearn.linear_model import LogisticRegression\n",
    "from sklearn import svm\n",
    "from sklearn.tree import DecisionTreeClassifier\n",
    "from sklearn.ensemble import RandomForestClassifier, GradientBoostingClassifier\n",
    "from sklearn.preprocessing import StandardScaler\n",
    "from sklearn.metrics import accuracy_score\n",
    "import joblib"
   ]
  },
  {
   "cell_type": "markdown",
   "id": "5ae3a4d4-9bfd-4990-836d-57d8a4721b11",
   "metadata": {},
   "source": [
    "## reading filtered_data.csv"
   ]
  },
  {
   "cell_type": "code",
   "execution_count": 2,
   "id": "b696a7ed-ec10-4fea-8fa1-0d4536fc3804",
   "metadata": {},
   "outputs": [
    {
     "data": {
      "text/html": [
       "<div>\n",
       "<style scoped>\n",
       "    .dataframe tbody tr th:only-of-type {\n",
       "        vertical-align: middle;\n",
       "    }\n",
       "\n",
       "    .dataframe tbody tr th {\n",
       "        vertical-align: top;\n",
       "    }\n",
       "\n",
       "    .dataframe thead th {\n",
       "        text-align: right;\n",
       "    }\n",
       "</style>\n",
       "<table border=\"1\" class=\"dataframe\">\n",
       "  <thead>\n",
       "    <tr style=\"text-align: right;\">\n",
       "      <th></th>\n",
       "      <th>CODE_GENDER</th>\n",
       "      <th>CNT_CHILDREN</th>\n",
       "      <th>AMT_INCOME_TOTAL</th>\n",
       "      <th>AMT_CREDIT_x</th>\n",
       "      <th>AMT_GOODS_PRICE_x</th>\n",
       "      <th>NAME_INCOME_TYPE</th>\n",
       "      <th>NAME_EDUCATION_TYPE</th>\n",
       "      <th>NAME_FAMILY_STATUS</th>\n",
       "      <th>NAME_HOUSING_TYPE</th>\n",
       "      <th>CNT_FAM_MEMBERS</th>\n",
       "      <th>...</th>\n",
       "      <th>AMT_REQ_CREDIT_BUREAU_HOUR</th>\n",
       "      <th>AMT_REQ_CREDIT_BUREAU_DAY</th>\n",
       "      <th>AMT_REQ_CREDIT_BUREAU_WEEK</th>\n",
       "      <th>AMT_REQ_CREDIT_BUREAU_MON</th>\n",
       "      <th>AMT_REQ_CREDIT_BUREAU_QRT</th>\n",
       "      <th>AMT_REQ_CREDIT_BUREAU_YEAR</th>\n",
       "      <th>AMT_APPLICATION</th>\n",
       "      <th>AMT_CREDIT_y</th>\n",
       "      <th>NAME_CONTRACT_STATUS</th>\n",
       "      <th>CNT_PAYMENT</th>\n",
       "    </tr>\n",
       "  </thead>\n",
       "  <tbody>\n",
       "    <tr>\n",
       "      <th>0</th>\n",
       "      <td>M</td>\n",
       "      <td>0</td>\n",
       "      <td>202500.0</td>\n",
       "      <td>406597.5</td>\n",
       "      <td>351000.0</td>\n",
       "      <td>Working</td>\n",
       "      <td>Secondary / secondary special</td>\n",
       "      <td>Single / not married</td>\n",
       "      <td>House / apartment</td>\n",
       "      <td>1.0</td>\n",
       "      <td>...</td>\n",
       "      <td>0.0</td>\n",
       "      <td>0.0</td>\n",
       "      <td>0.0</td>\n",
       "      <td>0.0</td>\n",
       "      <td>0.0</td>\n",
       "      <td>1.0</td>\n",
       "      <td>179055.0</td>\n",
       "      <td>179055.0</td>\n",
       "      <td>Approved</td>\n",
       "      <td>24.0</td>\n",
       "    </tr>\n",
       "    <tr>\n",
       "      <th>1</th>\n",
       "      <td>F</td>\n",
       "      <td>0</td>\n",
       "      <td>270000.0</td>\n",
       "      <td>1293502.5</td>\n",
       "      <td>1129500.0</td>\n",
       "      <td>State servant</td>\n",
       "      <td>Higher education</td>\n",
       "      <td>Married</td>\n",
       "      <td>House / apartment</td>\n",
       "      <td>2.0</td>\n",
       "      <td>...</td>\n",
       "      <td>0.0</td>\n",
       "      <td>0.0</td>\n",
       "      <td>0.0</td>\n",
       "      <td>0.0</td>\n",
       "      <td>0.0</td>\n",
       "      <td>0.0</td>\n",
       "      <td>900000.0</td>\n",
       "      <td>1035882.0</td>\n",
       "      <td>Approved</td>\n",
       "      <td>12.0</td>\n",
       "    </tr>\n",
       "    <tr>\n",
       "      <th>2</th>\n",
       "      <td>F</td>\n",
       "      <td>0</td>\n",
       "      <td>270000.0</td>\n",
       "      <td>1293502.5</td>\n",
       "      <td>1129500.0</td>\n",
       "      <td>State servant</td>\n",
       "      <td>Higher education</td>\n",
       "      <td>Married</td>\n",
       "      <td>House / apartment</td>\n",
       "      <td>2.0</td>\n",
       "      <td>...</td>\n",
       "      <td>0.0</td>\n",
       "      <td>0.0</td>\n",
       "      <td>0.0</td>\n",
       "      <td>0.0</td>\n",
       "      <td>0.0</td>\n",
       "      <td>0.0</td>\n",
       "      <td>337500.0</td>\n",
       "      <td>348637.5</td>\n",
       "      <td>Approved</td>\n",
       "      <td>6.0</td>\n",
       "    </tr>\n",
       "    <tr>\n",
       "      <th>3</th>\n",
       "      <td>F</td>\n",
       "      <td>0</td>\n",
       "      <td>270000.0</td>\n",
       "      <td>1293502.5</td>\n",
       "      <td>1129500.0</td>\n",
       "      <td>State servant</td>\n",
       "      <td>Higher education</td>\n",
       "      <td>Married</td>\n",
       "      <td>House / apartment</td>\n",
       "      <td>2.0</td>\n",
       "      <td>...</td>\n",
       "      <td>0.0</td>\n",
       "      <td>0.0</td>\n",
       "      <td>0.0</td>\n",
       "      <td>0.0</td>\n",
       "      <td>0.0</td>\n",
       "      <td>0.0</td>\n",
       "      <td>68809.5</td>\n",
       "      <td>68053.5</td>\n",
       "      <td>Approved</td>\n",
       "      <td>12.0</td>\n",
       "    </tr>\n",
       "    <tr>\n",
       "      <th>4</th>\n",
       "      <td>M</td>\n",
       "      <td>0</td>\n",
       "      <td>67500.0</td>\n",
       "      <td>135000.0</td>\n",
       "      <td>135000.0</td>\n",
       "      <td>Working</td>\n",
       "      <td>Secondary / secondary special</td>\n",
       "      <td>Single / not married</td>\n",
       "      <td>House / apartment</td>\n",
       "      <td>1.0</td>\n",
       "      <td>...</td>\n",
       "      <td>0.0</td>\n",
       "      <td>0.0</td>\n",
       "      <td>0.0</td>\n",
       "      <td>0.0</td>\n",
       "      <td>0.0</td>\n",
       "      <td>0.0</td>\n",
       "      <td>24282.0</td>\n",
       "      <td>20106.0</td>\n",
       "      <td>Approved</td>\n",
       "      <td>4.0</td>\n",
       "    </tr>\n",
       "  </tbody>\n",
       "</table>\n",
       "<p>5 rows × 21 columns</p>\n",
       "</div>"
      ],
      "text/plain": [
       "  CODE_GENDER  CNT_CHILDREN  AMT_INCOME_TOTAL  AMT_CREDIT_x  \\\n",
       "0           M             0          202500.0      406597.5   \n",
       "1           F             0          270000.0     1293502.5   \n",
       "2           F             0          270000.0     1293502.5   \n",
       "3           F             0          270000.0     1293502.5   \n",
       "4           M             0           67500.0      135000.0   \n",
       "\n",
       "   AMT_GOODS_PRICE_x NAME_INCOME_TYPE            NAME_EDUCATION_TYPE  \\\n",
       "0           351000.0          Working  Secondary / secondary special   \n",
       "1          1129500.0    State servant               Higher education   \n",
       "2          1129500.0    State servant               Higher education   \n",
       "3          1129500.0    State servant               Higher education   \n",
       "4           135000.0          Working  Secondary / secondary special   \n",
       "\n",
       "     NAME_FAMILY_STATUS  NAME_HOUSING_TYPE  CNT_FAM_MEMBERS  ...  \\\n",
       "0  Single / not married  House / apartment              1.0  ...   \n",
       "1               Married  House / apartment              2.0  ...   \n",
       "2               Married  House / apartment              2.0  ...   \n",
       "3               Married  House / apartment              2.0  ...   \n",
       "4  Single / not married  House / apartment              1.0  ...   \n",
       "\n",
       "   AMT_REQ_CREDIT_BUREAU_HOUR  AMT_REQ_CREDIT_BUREAU_DAY  \\\n",
       "0                         0.0                        0.0   \n",
       "1                         0.0                        0.0   \n",
       "2                         0.0                        0.0   \n",
       "3                         0.0                        0.0   \n",
       "4                         0.0                        0.0   \n",
       "\n",
       "   AMT_REQ_CREDIT_BUREAU_WEEK  AMT_REQ_CREDIT_BUREAU_MON  \\\n",
       "0                         0.0                        0.0   \n",
       "1                         0.0                        0.0   \n",
       "2                         0.0                        0.0   \n",
       "3                         0.0                        0.0   \n",
       "4                         0.0                        0.0   \n",
       "\n",
       "   AMT_REQ_CREDIT_BUREAU_QRT  AMT_REQ_CREDIT_BUREAU_YEAR  AMT_APPLICATION  \\\n",
       "0                        0.0                         1.0         179055.0   \n",
       "1                        0.0                         0.0         900000.0   \n",
       "2                        0.0                         0.0         337500.0   \n",
       "3                        0.0                         0.0          68809.5   \n",
       "4                        0.0                         0.0          24282.0   \n",
       "\n",
       "   AMT_CREDIT_y  NAME_CONTRACT_STATUS CNT_PAYMENT  \n",
       "0      179055.0              Approved        24.0  \n",
       "1     1035882.0              Approved        12.0  \n",
       "2      348637.5              Approved         6.0  \n",
       "3       68053.5              Approved        12.0  \n",
       "4       20106.0              Approved         4.0  \n",
       "\n",
       "[5 rows x 21 columns]"
      ]
     },
     "execution_count": 2,
     "metadata": {},
     "output_type": "execute_result"
    }
   ],
   "source": [
    "filter_df = pd.read_csv('filtered_data.csv')\n",
    "filter_df.head()"
   ]
  },
  {
   "cell_type": "markdown",
   "id": "89d29055-169c-4e65-a441-5fb6239bdcc0",
   "metadata": {},
   "source": [
    "## checking for null values"
   ]
  },
  {
   "cell_type": "code",
   "execution_count": 3,
   "id": "123af47b-b713-463e-8e0c-23ad4b3a6420",
   "metadata": {},
   "outputs": [
    {
     "name": "stdout",
     "output_type": "stream",
     "text": [
      "         CODE_GENDER  CNT_CHILDREN  AMT_INCOME_TOTAL  AMT_CREDIT_x  \\\n",
      "0              False         False             False         False   \n",
      "1              False         False             False         False   \n",
      "2              False         False             False         False   \n",
      "3              False         False             False         False   \n",
      "4              False         False             False         False   \n",
      "...              ...           ...               ...           ...   \n",
      "1430150        False         False             False         False   \n",
      "1430151        False         False             False         False   \n",
      "1430152        False         False             False         False   \n",
      "1430153        False         False             False         False   \n",
      "1430154        False         False             False         False   \n",
      "\n",
      "         AMT_GOODS_PRICE_x  NAME_INCOME_TYPE  NAME_EDUCATION_TYPE  \\\n",
      "0                    False             False                False   \n",
      "1                    False             False                False   \n",
      "2                    False             False                False   \n",
      "3                    False             False                False   \n",
      "4                    False             False                False   \n",
      "...                    ...               ...                  ...   \n",
      "1430150              False             False                False   \n",
      "1430151              False             False                False   \n",
      "1430152              False             False                False   \n",
      "1430153              False             False                False   \n",
      "1430154              False             False                False   \n",
      "\n",
      "         NAME_FAMILY_STATUS  NAME_HOUSING_TYPE  CNT_FAM_MEMBERS  ...  \\\n",
      "0                     False              False            False  ...   \n",
      "1                     False              False            False  ...   \n",
      "2                     False              False            False  ...   \n",
      "3                     False              False            False  ...   \n",
      "4                     False              False            False  ...   \n",
      "...                     ...                ...              ...  ...   \n",
      "1430150               False              False            False  ...   \n",
      "1430151               False              False            False  ...   \n",
      "1430152               False              False            False  ...   \n",
      "1430153               False              False            False  ...   \n",
      "1430154               False              False            False  ...   \n",
      "\n",
      "         AMT_REQ_CREDIT_BUREAU_HOUR  AMT_REQ_CREDIT_BUREAU_DAY  \\\n",
      "0                             False                      False   \n",
      "1                             False                      False   \n",
      "2                             False                      False   \n",
      "3                             False                      False   \n",
      "4                             False                      False   \n",
      "...                             ...                        ...   \n",
      "1430150                       False                      False   \n",
      "1430151                       False                      False   \n",
      "1430152                       False                      False   \n",
      "1430153                       False                      False   \n",
      "1430154                       False                      False   \n",
      "\n",
      "         AMT_REQ_CREDIT_BUREAU_WEEK  AMT_REQ_CREDIT_BUREAU_MON  \\\n",
      "0                             False                      False   \n",
      "1                             False                      False   \n",
      "2                             False                      False   \n",
      "3                             False                      False   \n",
      "4                             False                      False   \n",
      "...                             ...                        ...   \n",
      "1430150                       False                      False   \n",
      "1430151                       False                      False   \n",
      "1430152                       False                      False   \n",
      "1430153                       False                      False   \n",
      "1430154                       False                      False   \n",
      "\n",
      "         AMT_REQ_CREDIT_BUREAU_QRT  AMT_REQ_CREDIT_BUREAU_YEAR  \\\n",
      "0                            False                       False   \n",
      "1                            False                       False   \n",
      "2                            False                       False   \n",
      "3                            False                       False   \n",
      "4                            False                       False   \n",
      "...                            ...                         ...   \n",
      "1430150                      False                       False   \n",
      "1430151                      False                       False   \n",
      "1430152                      False                       False   \n",
      "1430153                      False                       False   \n",
      "1430154                      False                       False   \n",
      "\n",
      "         AMT_APPLICATION  AMT_CREDIT_y  NAME_CONTRACT_STATUS  CNT_PAYMENT  \n",
      "0                  False         False                 False        False  \n",
      "1                  False         False                 False        False  \n",
      "2                  False         False                 False        False  \n",
      "3                  False         False                 False        False  \n",
      "4                  False         False                 False        False  \n",
      "...                  ...           ...                   ...          ...  \n",
      "1430150            False         False                 False        False  \n",
      "1430151            False         False                 False        False  \n",
      "1430152            False         False                 False        False  \n",
      "1430153            False         False                 False        False  \n",
      "1430154            False         False                 False        False  \n",
      "\n",
      "[1430155 rows x 21 columns]\n"
     ]
    }
   ],
   "source": [
    "print(filter_df.isnull())"
   ]
  },
  {
   "cell_type": "code",
   "execution_count": 4,
   "id": "cff9bdec-2ffe-410a-bdcb-d21c720f3827",
   "metadata": {},
   "outputs": [
    {
     "data": {
      "text/plain": [
       "(1430155, 21)"
      ]
     },
     "execution_count": 4,
     "metadata": {},
     "output_type": "execute_result"
    }
   ],
   "source": [
    "filter_df.shape"
   ]
  },
  {
   "cell_type": "code",
   "execution_count": 5,
   "id": "5322197a-777a-4caf-bd7b-8761bcb853f4",
   "metadata": {},
   "outputs": [
    {
     "name": "stdout",
     "output_type": "stream",
     "text": [
      "<class 'pandas.core.frame.DataFrame'>\n",
      "RangeIndex: 1430155 entries, 0 to 1430154\n",
      "Data columns (total 21 columns):\n",
      " #   Column                      Non-Null Count    Dtype  \n",
      "---  ------                      --------------    -----  \n",
      " 0   CODE_GENDER                 1430155 non-null  object \n",
      " 1   CNT_CHILDREN                1430155 non-null  int64  \n",
      " 2   AMT_INCOME_TOTAL            1430155 non-null  float64\n",
      " 3   AMT_CREDIT_x                1430155 non-null  float64\n",
      " 4   AMT_GOODS_PRICE_x           1430155 non-null  float64\n",
      " 5   NAME_INCOME_TYPE            1430155 non-null  object \n",
      " 6   NAME_EDUCATION_TYPE         1430155 non-null  object \n",
      " 7   NAME_FAMILY_STATUS          1430155 non-null  object \n",
      " 8   NAME_HOUSING_TYPE           1430155 non-null  object \n",
      " 9   CNT_FAM_MEMBERS             1430155 non-null  float64\n",
      " 10  EXT_SOURCE_3                1430155 non-null  float64\n",
      " 11  AMT_REQ_CREDIT_BUREAU_HOUR  1430155 non-null  float64\n",
      " 12  AMT_REQ_CREDIT_BUREAU_DAY   1430155 non-null  float64\n",
      " 13  AMT_REQ_CREDIT_BUREAU_WEEK  1430155 non-null  float64\n",
      " 14  AMT_REQ_CREDIT_BUREAU_MON   1430155 non-null  float64\n",
      " 15  AMT_REQ_CREDIT_BUREAU_QRT   1430155 non-null  float64\n",
      " 16  AMT_REQ_CREDIT_BUREAU_YEAR  1430155 non-null  float64\n",
      " 17  AMT_APPLICATION             1413701 non-null  float64\n",
      " 18  AMT_CREDIT_y                1413700 non-null  float64\n",
      " 19  NAME_CONTRACT_STATUS        1413701 non-null  object \n",
      " 20  CNT_PAYMENT                 1106488 non-null  float64\n",
      "dtypes: float64(14), int64(1), object(6)\n",
      "memory usage: 229.1+ MB\n"
     ]
    }
   ],
   "source": [
    "filter_df.info()"
   ]
  },
  {
   "cell_type": "markdown",
   "id": "ce21d496-b376-4df8-914a-e2133a97efc7",
   "metadata": {},
   "source": [
    "## checking for variatoins in the features"
   ]
  },
  {
   "cell_type": "code",
   "execution_count": 6,
   "id": "62c17315-d824-431d-a2d3-403bd8536fc8",
   "metadata": {},
   "outputs": [
    {
     "data": {
      "text/plain": [
       "array(['Working', 'State servant', 'Commercial associate', 'Pensioner',\n",
       "       'Unemployed', 'Student', 'Businessman', 'Maternity leave'],\n",
       "      dtype=object)"
      ]
     },
     "execution_count": 6,
     "metadata": {},
     "output_type": "execute_result"
    }
   ],
   "source": [
    "filter_df['NAME_INCOME_TYPE'].unique()"
   ]
  },
  {
   "cell_type": "code",
   "execution_count": 7,
   "id": "bef9e64a-9dcc-428b-b8f2-9e71dcf62686",
   "metadata": {},
   "outputs": [
    {
     "data": {
      "text/plain": [
       "array(['Single / not married', 'Married', 'Civil marriage', 'Widow',\n",
       "       'Separated', 'Unknown'], dtype=object)"
      ]
     },
     "execution_count": 7,
     "metadata": {},
     "output_type": "execute_result"
    }
   ],
   "source": [
    "filter_df['NAME_FAMILY_STATUS'].unique()"
   ]
  },
  {
   "cell_type": "code",
   "execution_count": 8,
   "id": "e15561c8-3fa4-482b-867c-a345bdee830e",
   "metadata": {},
   "outputs": [
    {
     "data": {
      "text/plain": [
       "array(['M', 'F', 'XNA'], dtype=object)"
      ]
     },
     "execution_count": 8,
     "metadata": {},
     "output_type": "execute_result"
    }
   ],
   "source": [
    "filter_df['CODE_GENDER'].unique()"
   ]
  },
  {
   "cell_type": "code",
   "execution_count": 9,
   "id": "2c013384-3e1d-48c6-8a5b-5112eac40648",
   "metadata": {},
   "outputs": [
    {
     "data": {
      "text/plain": [
       "array(['Approved', 'Canceled', 'Refused', nan, 'Unused offer'],\n",
       "      dtype=object)"
      ]
     },
     "execution_count": 9,
     "metadata": {},
     "output_type": "execute_result"
    }
   ],
   "source": [
    "filter_df['NAME_CONTRACT_STATUS'].unique()"
   ]
  },
  {
   "cell_type": "code",
   "execution_count": 10,
   "id": "7c4fead9-75a9-4560-9d2c-6ed8f566af4b",
   "metadata": {},
   "outputs": [
    {
     "data": {
      "text/plain": [
       "array(['Secondary / secondary special', 'Higher education',\n",
       "       'Incomplete higher', 'Lower secondary', 'Academic degree'],\n",
       "      dtype=object)"
      ]
     },
     "execution_count": 10,
     "metadata": {},
     "output_type": "execute_result"
    }
   ],
   "source": [
    "filter_df['NAME_EDUCATION_TYPE'].unique()"
   ]
  },
  {
   "cell_type": "markdown",
   "id": "34a4881b-5018-4ece-9078-c6d84e1b5d37",
   "metadata": {},
   "source": [
    "## finding the best AMT_REQ_CREDIT_BUREAU_* to be used as credit history feature "
   ]
  },
  {
   "cell_type": "code",
   "execution_count": 11,
   "id": "46ac4722-42ef-40bd-a143-5c028decdc0d",
   "metadata": {},
   "outputs": [
    {
     "data": {
      "image/png": "[encoded data removed]",
      "text/plain": [
       "<Figure size 1000x800 with 2 Axes>"
      ]
     },
     "metadata": {},
     "output_type": "display_data"
    }
   ],
   "source": [
    "import pandas as pd\n",
    "import seaborn as sns\n",
    "import matplotlib.pyplot as plt\n",
    "from sklearn.ensemble import RandomForestClassifier\n",
    "from sklearn.preprocessing import LabelEncoder\n",
    "\n",
    "# Load the dataset\n",
    "file_path = 'filtered_data.csv'\n",
    "df = pd.read_csv(file_path)\n",
    "\n",
    "# Filter AMT_REQ_CREDIT_BUREAU_* columns\n",
    "credit_bureau_columns = [col for col in df.columns if col.startswith('AMT_REQ_CREDIT_BUREAU_')]\n",
    "\n",
    "# Add target column (ensure it's in the DataFrame)\n",
    "target_column = 'NAME_CONTRACT_STATUS'  # Replace with the correct column name\n",
    "df = df[[target_column] + credit_bureau_columns].dropna()\n",
    "\n",
    "# Encode the target variable if categorical\n",
    "le = LabelEncoder()\n",
    "df[target_column] = le.fit_transform(df[target_column])\n",
    "\n",
    "# Correlation heatmap\n",
    "plt.figure(figsize=(10, 8))\n",
    "correlation = df.corr()\n",
    "sns.heatmap(correlation, annot=True, cmap='coolwarm', fmt='.2f')\n",
    "plt.title(\"Correlation Heatmap\")\n",
    "plt.show()\n",
    "\n",
    "\n"
   ]
  },
  {
   "cell_type": "code",
   "execution_count": 12,
   "id": "6d3fa1eb-f445-4904-aa62-a92c4b8154a5",
   "metadata": {},
   "outputs": [
    {
     "data": {
      "text/plain": [
       "array([ 1.,  0.,  2.,  4.,  5.,  3.,  8.,  6.,  9.,  7., 10., 11., 13.,\n",
       "       16., 12., 25., 23., 15., 14., 22., 17., 19., 18., 21., 20.])"
      ]
     },
     "execution_count": 12,
     "metadata": {},
     "output_type": "execute_result"
    }
   ],
   "source": [
    "filter_df['AMT_REQ_CREDIT_BUREAU_YEAR'].unique()"
   ]
  },
  {
   "cell_type": "code",
   "execution_count": 13,
   "id": "b98d7258-8eb9-4f09-891e-d515bce4f1c7",
   "metadata": {},
   "outputs": [
    {
     "data": {
      "text/plain": [
       "array(['House / apartment', 'Rented apartment', 'With parents',\n",
       "       'Municipal apartment', 'Office apartment', 'Co-op apartment'],\n",
       "      dtype=object)"
      ]
     },
     "execution_count": 13,
     "metadata": {},
     "output_type": "execute_result"
    }
   ],
   "source": [
    "filter_df['NAME_HOUSING_TYPE'].unique()"
   ]
  },
  {
   "cell_type": "markdown",
   "id": "ec1d6dc2-96f0-4baf-ac8b-dd3e1a40d0d4",
   "metadata": {},
   "source": [
    "## encoding "
   ]
  },
  {
   "cell_type": "code",
   "execution_count": 14,
   "id": "4d9babae-08a9-4341-a140-48690cfdeb1e",
   "metadata": {},
   "outputs": [],
   "source": [
    "filter_df['CREDIT_HISTORY_INDICATOR'] = np.where(filter_df['AMT_REQ_CREDIT_BUREAU_YEAR'] > 0, 1, 0)"
   ]
  },
  {
   "cell_type": "code",
   "execution_count": 15,
   "id": "42c96c81-3592-4e59-b3ca-295d67d2628c",
   "metadata": {},
   "outputs": [
    {
     "data": {
      "text/plain": [
       "array([1, 0])"
      ]
     },
     "execution_count": 15,
     "metadata": {},
     "output_type": "execute_result"
    }
   ],
   "source": [
    "filter_df['CREDIT_HISTORY_INDICATOR'].unique()"
   ]
  },
  {
   "cell_type": "code",
   "execution_count": 16,
   "id": "eaca9a58-0d41-4e00-81c8-d7f8b9d13213",
   "metadata": {},
   "outputs": [
    {
     "name": "stdout",
     "output_type": "stream",
     "text": [
      "[1 2 0]\n"
     ]
    }
   ],
   "source": [
    "income_type_mapping = {\n",
    "    'Unemployed': 0,\n",
    "    'Student': 0,\n",
    "    'Working': 1,\n",
    "    'State servant': 1,\n",
    "    'Pensioner': 1,\n",
    "    'Maternity leave': 1,\n",
    "    'Commercial associate': 2,\n",
    "    'Businessman': 2\n",
    "}\n",
    "\n",
    "\n",
    "filter_df['INCOME_TYPE_CATEGORY'] = filter_df['NAME_INCOME_TYPE'].map(income_type_mapping)\n",
    "\n",
    "# Verify the transformation\n",
    "print(filter_df['INCOME_TYPE_CATEGORY'].unique())\n"
   ]
  },
  {
   "cell_type": "code",
   "execution_count": 17,
   "id": "9b127ce2-6d58-452b-9607-1673cbf0dc7c",
   "metadata": {},
   "outputs": [
    {
     "name": "stdout",
     "output_type": "stream",
     "text": [
      "[0 1]\n"
     ]
    }
   ],
   "source": [
    "# Define the mapping for married (1) and not married (0)\n",
    "family_status_mapping = {\n",
    "    'Married': 1,\n",
    "    'Civil marriage': 1,\n",
    "    'Single / not married': 0,\n",
    "    'Widow': 0,\n",
    "    'Separated': 0,\n",
    "    'Unknown': 0\n",
    "}\n",
    "\n",
    "# Apply the mapping to the column\n",
    "filter_df['MARRIED_STATUS'] = filter_df['NAME_FAMILY_STATUS'].map(family_status_mapping)\n",
    "\n",
    "# Verify the transformation\n",
    "print(filter_df['MARRIED_STATUS'].unique())\n"
   ]
  },
  {
   "cell_type": "code",
   "execution_count": 18,
   "id": "1ed957c9-99fd-44e7-b87e-78c6579257da",
   "metadata": {},
   "outputs": [
    {
     "data": {
      "text/plain": [
       "array([ 0,  1,  2,  3,  4,  7,  5,  6,  8,  9, 11, 12, 10, 19, 14],\n",
       "      dtype=int64)"
      ]
     },
     "execution_count": 18,
     "metadata": {},
     "output_type": "execute_result"
    }
   ],
   "source": [
    "filter_df['CNT_CHILDREN'].unique()"
   ]
  },
  {
   "cell_type": "code",
   "execution_count": 19,
   "id": "ed7c6037-f475-43e0-8b1b-03dd9eae4044",
   "metadata": {},
   "outputs": [
    {
     "name": "stdout",
     "output_type": "stream",
     "text": [
      "[0 1 2 3]\n"
     ]
    }
   ],
   "source": [
    "# Define a function to categorize the number of children\n",
    "def categorize_children(count):\n",
    "    if count == 0:\n",
    "        return 0\n",
    "    elif count == 1:\n",
    "        return 1\n",
    "    elif count == 2:\n",
    "        return 2\n",
    "    else:\n",
    "        return 3\n",
    "\n",
    "# Apply the function to the CNT_CHILDREN column\n",
    "filter_df['DEPENDENTS'] = filter_df['CNT_CHILDREN'].apply(categorize_children)\n",
    "\n",
    "# Verify the transformation\n",
    "print(filter_df['DEPENDENTS'].unique())\n"
   ]
  },
  {
   "cell_type": "code",
   "execution_count": 20,
   "id": "b0599311-bbe9-492c-9f1f-46dc4062e842",
   "metadata": {},
   "outputs": [
    {
     "name": "stdout",
     "output_type": "stream",
     "text": [
      "[1 0]\n"
     ]
    }
   ],
   "source": [
    "# Define the mapping for gender encoding\n",
    "gender_mapping = {\n",
    "    'M': 1,\n",
    "    'F': 0,\n",
    "    'XNA': 0\n",
    "}\n",
    "\n",
    "# Apply the mapping to the CODE_GENDER column\n",
    "filter_df['CODE_GENDER_ENCODED'] = filter_df['CODE_GENDER'].map(gender_mapping)\n",
    "\n",
    "# Verify the transformation\n",
    "print(filter_df['CODE_GENDER_ENCODED'].unique())\n"
   ]
  },
  {
   "cell_type": "code",
   "execution_count": 21,
   "id": "b8e31387-2c74-4450-92d4-802e917be9cc",
   "metadata": {},
   "outputs": [
    {
     "name": "stdout",
     "output_type": "stream",
     "text": [
      "[1 0]\n"
     ]
    }
   ],
   "source": [
    "# Map 'Approved' to 1 and all other statuses (including NaN) to 0\n",
    "filter_df['CONTRACT_STATUS_BINARY'] = filter_df['NAME_CONTRACT_STATUS'].apply(lambda x: 1 if x == 'Approved' else 0)\n",
    "\n",
    "# Verify the transformation\n",
    "print(filter_df['CONTRACT_STATUS_BINARY'].unique())\n"
   ]
  },
  {
   "cell_type": "code",
   "execution_count": 22,
   "id": "fcedf187-5adc-498f-bad6-4ed9026f0c2a",
   "metadata": {},
   "outputs": [
    {
     "name": "stdout",
     "output_type": "stream",
     "text": [
      "[1 0 2]\n"
     ]
    }
   ],
   "source": [
    "# Define the mapping function\n",
    "def categorize_housing(housing_type):\n",
    "    if housing_type in ['House / apartment', 'With parents']:\n",
    "        return 1\n",
    "    elif housing_type == 'Rented apartment':\n",
    "        return 0\n",
    "    else:\n",
    "        return 2\n",
    "\n",
    "# Apply the function to the NAME_HOUSING_TYPE column\n",
    "filter_df['HOUSING_TYPE_CATEGORY'] = filter_df['NAME_HOUSING_TYPE'].apply(categorize_housing)\n",
    "\n",
    "# Verify the transformation\n",
    "print(filter_df['HOUSING_TYPE_CATEGORY'].unique())\n"
   ]
  },
  {
   "cell_type": "code",
   "execution_count": 23,
   "id": "fa014bba-ed99-40b4-b855-4c40e84665b6",
   "metadata": {},
   "outputs": [
    {
     "name": "stdout",
     "output_type": "stream",
     "text": [
      "[0 1]\n"
     ]
    }
   ],
   "source": [
    "# Define the mapping for graduate (1) and non-graduate (0)\n",
    "education_mapping = {\n",
    "    'Secondary / secondary special': 0,\n",
    "    'Higher education': 1,\n",
    "    'Incomplete higher': 0,\n",
    "    'Lower secondary': 0,\n",
    "    'Academic degree': 1\n",
    "}\n",
    "\n",
    "# Apply the mapping to the column\n",
    "filter_df['EDUCATION_STATUS'] = filter_df['NAME_EDUCATION_TYPE'].map(education_mapping)\n",
    "\n",
    "# Verify the transformation\n",
    "print(filter_df['EDUCATION_STATUS'].unique())\n"
   ]
  },
  {
   "cell_type": "code",
   "execution_count": 24,
   "id": "f04ecfb2-3982-4296-857b-a7a05697522d",
   "metadata": {},
   "outputs": [
    {
     "data": {
      "text/plain": [
       "array([ 1.,  2.,  3.,  4.,  5.,  6.,  9.,  7.,  8., 10., 13., 14., 12.,\n",
       "       20., 15., 16., 11.])"
      ]
     },
     "execution_count": 24,
     "metadata": {},
     "output_type": "execute_result"
    }
   ],
   "source": [
    "filter_df['CNT_FAM_MEMBERS'].unique()"
   ]
  },
  {
   "cell_type": "code",
   "execution_count": 25,
   "id": "2a0d558d-f9d6-45ef-aed7-fa6328cb4050",
   "metadata": {},
   "outputs": [
    {
     "name": "stdout",
     "output_type": "stream",
     "text": [
      "   AMT_INCOME_TOTAL  APPLICANT_INCOME  COAPPLICANT_INCOME  CNT_FAM_MEMBERS\n",
      "0          202500.0          202500.0                 0.0              1.0\n",
      "1          270000.0          216000.0             54000.0              2.0\n",
      "2          270000.0          216000.0             54000.0              2.0\n",
      "3          270000.0          216000.0             54000.0              2.0\n",
      "4           67500.0           67500.0                 0.0              1.0\n"
     ]
    }
   ],
   "source": [
    "filter_df['APPLICANT_INCOME'] = filter_df.apply(\n",
    "    lambda row: row['AMT_INCOME_TOTAL'] if row['CNT_FAM_MEMBERS'] == 1 else row['AMT_INCOME_TOTAL'] * 0.8,\n",
    "    axis=1\n",
    ")\n",
    "\n",
    "filter_df['COAPPLICANT_INCOME'] = filter_df.apply(\n",
    "    lambda row: 0 if row['CNT_FAM_MEMBERS'] == 1 else row['AMT_INCOME_TOTAL'] - row['APPLICANT_INCOME'],\n",
    "    axis=1\n",
    ")\n",
    "print(filter_df[['AMT_INCOME_TOTAL', 'APPLICANT_INCOME', 'COAPPLICANT_INCOME', 'CNT_FAM_MEMBERS']].head())"
   ]
  },
  {
   "cell_type": "markdown",
   "id": "0030d9c5-1135-45b1-91a3-cf773054bddd",
   "metadata": {},
   "source": [
    "## SATURATING THE DATASET FOR MODEL"
   ]
  },
  {
   "cell_type": "code",
   "execution_count": 26,
   "id": "1b28cc7f-5743-48d4-a494-67e413e2556d",
   "metadata": {},
   "outputs": [],
   "source": [
    " ultraf_df= filter_df[['EDUCATION_STATUS','APPLICANT_INCOME', 'HOUSING_TYPE_CATEGORY', 'COAPPLICANT_INCOME','DEPENDENTS', 'CREDIT_HISTORY_INDICATOR','MARRIED_STATUS','INCOME_TYPE_CATEGORY', 'AMT_CREDIT_y',\n",
    "'CODE_GENDER_ENCODED', 'CNT_PAYMENT','CONTRACT_STATUS_BINARY']]"
   ]
  },
  {
   "cell_type": "markdown",
   "id": "3e64a47d-6129-4fb7-8904-94f3414eb207",
   "metadata": {},
   "source": [
    "## Checking for any leftover null values"
   ]
  },
  {
   "cell_type": "code",
   "execution_count": 29,
   "id": "8e915fb4-a812-4012-9c2b-e9bee4014cdf",
   "metadata": {},
   "outputs": [],
   "source": [
    "df_sampled = ultraf_df.sample(n=50000, random_state=42)\n"
   ]
  },
  {
   "cell_type": "code",
   "execution_count": 30,
   "id": "84e6e354-3ed8-49b8-8976-873552e93fe1",
   "metadata": {},
   "outputs": [
    {
     "data": {
      "text/html": [
       "<div>\n",
       "<style scoped>\n",
       "    .dataframe tbody tr th:only-of-type {\n",
       "        vertical-align: middle;\n",
       "    }\n",
       "\n",
       "    .dataframe tbody tr th {\n",
       "        vertical-align: top;\n",
       "    }\n",
       "\n",
       "    .dataframe thead th {\n",
       "        text-align: right;\n",
       "    }\n",
       "</style>\n",
       "<table border=\"1\" class=\"dataframe\">\n",
       "  <thead>\n",
       "    <tr style=\"text-align: right;\">\n",
       "      <th></th>\n",
       "      <th>EDUCATION_STATUS</th>\n",
       "      <th>APPLICANT_INCOME</th>\n",
       "      <th>HOUSING_TYPE_CATEGORY</th>\n",
       "      <th>COAPPLICANT_INCOME</th>\n",
       "      <th>DEPENDENTS</th>\n",
       "      <th>CREDIT_HISTORY_INDICATOR</th>\n",
       "      <th>MARRIED_STATUS</th>\n",
       "      <th>INCOME_TYPE_CATEGORY</th>\n",
       "      <th>AMT_CREDIT_y</th>\n",
       "      <th>CODE_GENDER_ENCODED</th>\n",
       "      <th>CNT_PAYMENT</th>\n",
       "      <th>CONTRACT_STATUS_BINARY</th>\n",
       "    </tr>\n",
       "  </thead>\n",
       "  <tbody>\n",
       "    <tr>\n",
       "      <th>164088</th>\n",
       "      <td>0</td>\n",
       "      <td>180000.0</td>\n",
       "      <td>1</td>\n",
       "      <td>45000.0</td>\n",
       "      <td>1</td>\n",
       "      <td>0</td>\n",
       "      <td>0</td>\n",
       "      <td>1</td>\n",
       "      <td>0.0</td>\n",
       "      <td>0</td>\n",
       "      <td>NaN</td>\n",
       "      <td>0</td>\n",
       "    </tr>\n",
       "    <tr>\n",
       "      <th>1387336</th>\n",
       "      <td>1</td>\n",
       "      <td>144000.0</td>\n",
       "      <td>1</td>\n",
       "      <td>36000.0</td>\n",
       "      <td>0</td>\n",
       "      <td>1</td>\n",
       "      <td>1</td>\n",
       "      <td>1</td>\n",
       "      <td>633141.0</td>\n",
       "      <td>1</td>\n",
       "      <td>12.0</td>\n",
       "      <td>0</td>\n",
       "    </tr>\n",
       "    <tr>\n",
       "      <th>741340</th>\n",
       "      <td>1</td>\n",
       "      <td>144000.0</td>\n",
       "      <td>1</td>\n",
       "      <td>36000.0</td>\n",
       "      <td>0</td>\n",
       "      <td>0</td>\n",
       "      <td>1</td>\n",
       "      <td>1</td>\n",
       "      <td>0.0</td>\n",
       "      <td>1</td>\n",
       "      <td>NaN</td>\n",
       "      <td>0</td>\n",
       "    </tr>\n",
       "    <tr>\n",
       "      <th>132948</th>\n",
       "      <td>1</td>\n",
       "      <td>64800.0</td>\n",
       "      <td>1</td>\n",
       "      <td>16200.0</td>\n",
       "      <td>1</td>\n",
       "      <td>0</td>\n",
       "      <td>1</td>\n",
       "      <td>1</td>\n",
       "      <td>104368.5</td>\n",
       "      <td>0</td>\n",
       "      <td>12.0</td>\n",
       "      <td>1</td>\n",
       "    </tr>\n",
       "    <tr>\n",
       "      <th>1360486</th>\n",
       "      <td>0</td>\n",
       "      <td>540000.0</td>\n",
       "      <td>1</td>\n",
       "      <td>135000.0</td>\n",
       "      <td>0</td>\n",
       "      <td>1</td>\n",
       "      <td>1</td>\n",
       "      <td>2</td>\n",
       "      <td>180000.0</td>\n",
       "      <td>0</td>\n",
       "      <td>18.0</td>\n",
       "      <td>1</td>\n",
       "    </tr>\n",
       "    <tr>\n",
       "      <th>...</th>\n",
       "      <td>...</td>\n",
       "      <td>...</td>\n",
       "      <td>...</td>\n",
       "      <td>...</td>\n",
       "      <td>...</td>\n",
       "      <td>...</td>\n",
       "      <td>...</td>\n",
       "      <td>...</td>\n",
       "      <td>...</td>\n",
       "      <td>...</td>\n",
       "      <td>...</td>\n",
       "      <td>...</td>\n",
       "    </tr>\n",
       "    <tr>\n",
       "      <th>357498</th>\n",
       "      <td>0</td>\n",
       "      <td>97200.0</td>\n",
       "      <td>1</td>\n",
       "      <td>24300.0</td>\n",
       "      <td>0</td>\n",
       "      <td>1</td>\n",
       "      <td>1</td>\n",
       "      <td>1</td>\n",
       "      <td>180000.0</td>\n",
       "      <td>1</td>\n",
       "      <td>0.0</td>\n",
       "      <td>1</td>\n",
       "    </tr>\n",
       "    <tr>\n",
       "      <th>1062647</th>\n",
       "      <td>0</td>\n",
       "      <td>153000.0</td>\n",
       "      <td>0</td>\n",
       "      <td>0.0</td>\n",
       "      <td>0</td>\n",
       "      <td>0</td>\n",
       "      <td>0</td>\n",
       "      <td>2</td>\n",
       "      <td>111316.5</td>\n",
       "      <td>1</td>\n",
       "      <td>12.0</td>\n",
       "      <td>1</td>\n",
       "    </tr>\n",
       "    <tr>\n",
       "      <th>906150</th>\n",
       "      <td>1</td>\n",
       "      <td>216000.0</td>\n",
       "      <td>1</td>\n",
       "      <td>54000.0</td>\n",
       "      <td>0</td>\n",
       "      <td>0</td>\n",
       "      <td>1</td>\n",
       "      <td>1</td>\n",
       "      <td>0.0</td>\n",
       "      <td>0</td>\n",
       "      <td>NaN</td>\n",
       "      <td>0</td>\n",
       "    </tr>\n",
       "    <tr>\n",
       "      <th>947412</th>\n",
       "      <td>0</td>\n",
       "      <td>112500.0</td>\n",
       "      <td>1</td>\n",
       "      <td>0.0</td>\n",
       "      <td>0</td>\n",
       "      <td>1</td>\n",
       "      <td>0</td>\n",
       "      <td>1</td>\n",
       "      <td>125275.5</td>\n",
       "      <td>0</td>\n",
       "      <td>12.0</td>\n",
       "      <td>1</td>\n",
       "    </tr>\n",
       "    <tr>\n",
       "      <th>782966</th>\n",
       "      <td>0</td>\n",
       "      <td>90000.0</td>\n",
       "      <td>1</td>\n",
       "      <td>22500.0</td>\n",
       "      <td>0</td>\n",
       "      <td>0</td>\n",
       "      <td>1</td>\n",
       "      <td>1</td>\n",
       "      <td>21897.0</td>\n",
       "      <td>0</td>\n",
       "      <td>12.0</td>\n",
       "      <td>1</td>\n",
       "    </tr>\n",
       "  </tbody>\n",
       "</table>\n",
       "<p>50000 rows × 12 columns</p>\n",
       "</div>"
      ],
      "text/plain": [
       "         EDUCATION_STATUS  APPLICANT_INCOME  HOUSING_TYPE_CATEGORY  \\\n",
       "164088                  0          180000.0                      1   \n",
       "1387336                 1          144000.0                      1   \n",
       "741340                  1          144000.0                      1   \n",
       "132948                  1           64800.0                      1   \n",
       "1360486                 0          540000.0                      1   \n",
       "...                   ...               ...                    ...   \n",
       "357498                  0           97200.0                      1   \n",
       "1062647                 0          153000.0                      0   \n",
       "906150                  1          216000.0                      1   \n",
       "947412                  0          112500.0                      1   \n",
       "782966                  0           90000.0                      1   \n",
       "\n",
       "         COAPPLICANT_INCOME  DEPENDENTS  CREDIT_HISTORY_INDICATOR  \\\n",
       "164088              45000.0           1                         0   \n",
       "1387336             36000.0           0                         1   \n",
       "741340              36000.0           0                         0   \n",
       "132948              16200.0           1                         0   \n",
       "1360486            135000.0           0                         1   \n",
       "...                     ...         ...                       ...   \n",
       "357498              24300.0           0                         1   \n",
       "1062647                 0.0           0                         0   \n",
       "906150              54000.0           0                         0   \n",
       "947412                  0.0           0                         1   \n",
       "782966              22500.0           0                         0   \n",
       "\n",
       "         MARRIED_STATUS  INCOME_TYPE_CATEGORY  AMT_CREDIT_y  \\\n",
       "164088                0                     1           0.0   \n",
       "1387336               1                     1      633141.0   \n",
       "741340                1                     1           0.0   \n",
       "132948                1                     1      104368.5   \n",
       "1360486               1                     2      180000.0   \n",
       "...                 ...                   ...           ...   \n",
       "357498                1                     1      180000.0   \n",
       "1062647               0                     2      111316.5   \n",
       "906150                1                     1           0.0   \n",
       "947412                0                     1      125275.5   \n",
       "782966                1                     1       21897.0   \n",
       "\n",
       "         CODE_GENDER_ENCODED  CNT_PAYMENT  CONTRACT_STATUS_BINARY  \n",
       "164088                     0          NaN                       0  \n",
       "1387336                    1         12.0                       0  \n",
       "741340                     1          NaN                       0  \n",
       "132948                     0         12.0                       1  \n",
       "1360486                    0         18.0                       1  \n",
       "...                      ...          ...                     ...  \n",
       "357498                     1          0.0                       1  \n",
       "1062647                    1         12.0                       1  \n",
       "906150                     0          NaN                       0  \n",
       "947412                     0         12.0                       1  \n",
       "782966                     0         12.0                       1  \n",
       "\n",
       "[50000 rows x 12 columns]"
      ]
     },
     "execution_count": 30,
     "metadata": {},
     "output_type": "execute_result"
    }
   ],
   "source": [
    "df_sampled "
   ]
  },
  {
   "cell_type": "code",
   "execution_count": 31,
   "id": "d0b0f3e6-ef1e-45f7-8260-5dafd7314f5c",
   "metadata": {},
   "outputs": [
    {
     "data": {
      "text/plain": [
       "EDUCATION_STATUS                0\n",
       "APPLICANT_INCOME                0\n",
       "HOUSING_TYPE_CATEGORY           0\n",
       "COAPPLICANT_INCOME              0\n",
       "DEPENDENTS                      0\n",
       "CREDIT_HISTORY_INDICATOR        0\n",
       "MARRIED_STATUS                  0\n",
       "INCOME_TYPE_CATEGORY            0\n",
       "AMT_CREDIT_y                  565\n",
       "CODE_GENDER_ENCODED             0\n",
       "CNT_PAYMENT                 11356\n",
       "CONTRACT_STATUS_BINARY          0\n",
       "dtype: int64"
      ]
     },
     "execution_count": 31,
     "metadata": {},
     "output_type": "execute_result"
    }
   ],
   "source": [
    "df_sampled.isnull().sum()"
   ]
  },
  {
   "cell_type": "code",
   "execution_count": 32,
   "id": "8f7045f7-d0c4-4ad9-bec4-260eac3fd9f0",
   "metadata": {},
   "outputs": [],
   "source": [
    "df_sampled['CNT_PAYMENT'] = df_sampled['CNT_PAYMENT'].fillna(df_sampled['CNT_PAYMENT'].mean())\n",
    "df_sampled['AMT_CREDIT_y'] = df_sampled['AMT_CREDIT_y'].fillna(df_sampled['AMT_CREDIT_y'].mean())\n"
   ]
  },
  {
   "cell_type": "code",
   "execution_count": 33,
   "id": "dc08bf78-14ad-4c7c-9693-9f356da6065c",
   "metadata": {},
   "outputs": [
    {
     "data": {
      "text/plain": [
       "EDUCATION_STATUS            0\n",
       "APPLICANT_INCOME            0\n",
       "HOUSING_TYPE_CATEGORY       0\n",
       "COAPPLICANT_INCOME          0\n",
       "DEPENDENTS                  0\n",
       "CREDIT_HISTORY_INDICATOR    0\n",
       "MARRIED_STATUS              0\n",
       "INCOME_TYPE_CATEGORY        0\n",
       "AMT_CREDIT_y                0\n",
       "CODE_GENDER_ENCODED         0\n",
       "CNT_PAYMENT                 0\n",
       "CONTRACT_STATUS_BINARY      0\n",
       "dtype: int64"
      ]
     },
     "execution_count": 33,
     "metadata": {},
     "output_type": "execute_result"
    }
   ],
   "source": [
    "df_sampled.isnull().sum()"
   ]
  },
  {
   "cell_type": "code",
   "execution_count": 34,
   "id": "d70a7a3d-762f-4604-b2a5-dd31301c27b6",
   "metadata": {},
   "outputs": [],
   "source": [
    "X = df_sampled.drop('CONTRACT_STATUS_BINARY', axis = 1)\n",
    "y = df_sampled['CONTRACT_STATUS_BINARY']"
   ]
  },
  {
   "cell_type": "code",
   "execution_count": 35,
   "id": "0c62f85b-aec7-4082-935f-10a8b65f9182",
   "metadata": {},
   "outputs": [
    {
     "data": {
      "text/html": [
       "<div>\n",
       "<style scoped>\n",
       "    .dataframe tbody tr th:only-of-type {\n",
       "        vertical-align: middle;\n",
       "    }\n",
       "\n",
       "    .dataframe tbody tr th {\n",
       "        vertical-align: top;\n",
       "    }\n",
       "\n",
       "    .dataframe thead th {\n",
       "        text-align: right;\n",
       "    }\n",
       "</style>\n",
       "<table border=\"1\" class=\"dataframe\">\n",
       "  <thead>\n",
       "    <tr style=\"text-align: right;\">\n",
       "      <th></th>\n",
       "      <th>EDUCATION_STATUS</th>\n",
       "      <th>APPLICANT_INCOME</th>\n",
       "      <th>HOUSING_TYPE_CATEGORY</th>\n",
       "      <th>COAPPLICANT_INCOME</th>\n",
       "      <th>DEPENDENTS</th>\n",
       "      <th>CREDIT_HISTORY_INDICATOR</th>\n",
       "      <th>MARRIED_STATUS</th>\n",
       "      <th>INCOME_TYPE_CATEGORY</th>\n",
       "      <th>AMT_CREDIT_y</th>\n",
       "      <th>CODE_GENDER_ENCODED</th>\n",
       "      <th>CNT_PAYMENT</th>\n",
       "      <th>CONTRACT_STATUS_BINARY</th>\n",
       "    </tr>\n",
       "  </thead>\n",
       "  <tbody>\n",
       "    <tr>\n",
       "      <th>164088</th>\n",
       "      <td>0</td>\n",
       "      <td>180000.0</td>\n",
       "      <td>1</td>\n",
       "      <td>45000.0</td>\n",
       "      <td>1</td>\n",
       "      <td>0</td>\n",
       "      <td>0</td>\n",
       "      <td>1</td>\n",
       "      <td>0.0</td>\n",
       "      <td>0</td>\n",
       "      <td>16.097945</td>\n",
       "      <td>0</td>\n",
       "    </tr>\n",
       "    <tr>\n",
       "      <th>1387336</th>\n",
       "      <td>1</td>\n",
       "      <td>144000.0</td>\n",
       "      <td>1</td>\n",
       "      <td>36000.0</td>\n",
       "      <td>0</td>\n",
       "      <td>1</td>\n",
       "      <td>1</td>\n",
       "      <td>1</td>\n",
       "      <td>633141.0</td>\n",
       "      <td>1</td>\n",
       "      <td>12.000000</td>\n",
       "      <td>0</td>\n",
       "    </tr>\n",
       "    <tr>\n",
       "      <th>741340</th>\n",
       "      <td>1</td>\n",
       "      <td>144000.0</td>\n",
       "      <td>1</td>\n",
       "      <td>36000.0</td>\n",
       "      <td>0</td>\n",
       "      <td>0</td>\n",
       "      <td>1</td>\n",
       "      <td>1</td>\n",
       "      <td>0.0</td>\n",
       "      <td>1</td>\n",
       "      <td>16.097945</td>\n",
       "      <td>0</td>\n",
       "    </tr>\n",
       "    <tr>\n",
       "      <th>132948</th>\n",
       "      <td>1</td>\n",
       "      <td>64800.0</td>\n",
       "      <td>1</td>\n",
       "      <td>16200.0</td>\n",
       "      <td>1</td>\n",
       "      <td>0</td>\n",
       "      <td>1</td>\n",
       "      <td>1</td>\n",
       "      <td>104368.5</td>\n",
       "      <td>0</td>\n",
       "      <td>12.000000</td>\n",
       "      <td>1</td>\n",
       "    </tr>\n",
       "    <tr>\n",
       "      <th>1360486</th>\n",
       "      <td>0</td>\n",
       "      <td>540000.0</td>\n",
       "      <td>1</td>\n",
       "      <td>135000.0</td>\n",
       "      <td>0</td>\n",
       "      <td>1</td>\n",
       "      <td>1</td>\n",
       "      <td>2</td>\n",
       "      <td>180000.0</td>\n",
       "      <td>0</td>\n",
       "      <td>18.000000</td>\n",
       "      <td>1</td>\n",
       "    </tr>\n",
       "  </tbody>\n",
       "</table>\n",
       "</div>"
      ],
      "text/plain": [
       "         EDUCATION_STATUS  APPLICANT_INCOME  HOUSING_TYPE_CATEGORY  \\\n",
       "164088                  0          180000.0                      1   \n",
       "1387336                 1          144000.0                      1   \n",
       "741340                  1          144000.0                      1   \n",
       "132948                  1           64800.0                      1   \n",
       "1360486                 0          540000.0                      1   \n",
       "\n",
       "         COAPPLICANT_INCOME  DEPENDENTS  CREDIT_HISTORY_INDICATOR  \\\n",
       "164088              45000.0           1                         0   \n",
       "1387336             36000.0           0                         1   \n",
       "741340              36000.0           0                         0   \n",
       "132948              16200.0           1                         0   \n",
       "1360486            135000.0           0                         1   \n",
       "\n",
       "         MARRIED_STATUS  INCOME_TYPE_CATEGORY  AMT_CREDIT_y  \\\n",
       "164088                0                     1           0.0   \n",
       "1387336               1                     1      633141.0   \n",
       "741340                1                     1           0.0   \n",
       "132948                1                     1      104368.5   \n",
       "1360486               1                     2      180000.0   \n",
       "\n",
       "         CODE_GENDER_ENCODED  CNT_PAYMENT  CONTRACT_STATUS_BINARY  \n",
       "164088                     0    16.097945                       0  \n",
       "1387336                    1    12.000000                       0  \n",
       "741340                     1    16.097945                       0  \n",
       "132948                     0    12.000000                       1  \n",
       "1360486                    0    18.000000                       1  "
      ]
     },
     "execution_count": 35,
     "metadata": {},
     "output_type": "execute_result"
    }
   ],
   "source": [
    "df_sampled.head()"
   ]
  },
  {
   "cell_type": "code",
   "execution_count": 36,
   "id": "7fe4b7f7-bb79-4bd8-b2ea-e442987c6ff5",
   "metadata": {},
   "outputs": [
    {
     "ename": "NameError",
     "evalue": "name 'numerical_cols' is not defined",
     "output_type": "error",
     "traceback": [
      "\u001b[1;31m---------------------------------------------------------------------------\u001b[0m",
      "\u001b[1;31mNameError\u001b[0m                                 Traceback (most recent call last)",
      "Cell \u001b[1;32mIn[36], line 4\u001b[0m\n\u001b[0;32m      2\u001b[0m num_cols \u001b[38;5;241m=\u001b[39m [\u001b[38;5;124m'\u001b[39m\u001b[38;5;124mAPPLICANT_INCOME\u001b[39m\u001b[38;5;124m'\u001b[39m,\u001b[38;5;124m'\u001b[39m\u001b[38;5;124mCOAPPLICANT_INCOME\u001b[39m\u001b[38;5;124m'\u001b[39m, \u001b[38;5;124m'\u001b[39m\u001b[38;5;124mAMT_CREDIT_y\u001b[39m\u001b[38;5;124m'\u001b[39m, \u001b[38;5;124m'\u001b[39m\u001b[38;5;124mCNT_PAYMENT\u001b[39m\u001b[38;5;124m'\u001b[39m]\n\u001b[0;32m      3\u001b[0m scaler \u001b[38;5;241m=\u001b[39m RobustScaler()\n\u001b[1;32m----> 4\u001b[0m df_sampled[numerical_cols] \u001b[38;5;241m=\u001b[39m scaler\u001b[38;5;241m.\u001b[39mfit_transform(df_sampled[\u001b[43mnumerical_cols\u001b[49m])\n",
      "\u001b[1;31mNameError\u001b[0m: name 'numerical_cols' is not defined"
     ]
    }
   ],
   "source": [
    "from sklearn.preprocessing import RobustScaler\n",
    "num_cols = ['APPLICANT_INCOME','COAPPLICANT_INCOME', 'AMT_CREDIT_y', 'CNT_PAYMENT']\n",
    "scaler = RobustScaler()\n",
    "df_sampled[numerical_cols] = scaler.fit_transform(df_sampled[numerical_cols])"
   ]
  },
  {
   "cell_type": "code",
   "execution_count": 37,
   "id": "c88ca4be-6637-4eae-9282-9560fad9637c",
   "metadata": {},
   "outputs": [
    {
     "ename": "NameError",
     "evalue": "name 'numerical_cols' is not defined",
     "output_type": "error",
     "traceback": [
      "\u001b[1;31m---------------------------------------------------------------------------\u001b[0m",
      "\u001b[1;31mNameError\u001b[0m                                 Traceback (most recent call last)",
      "Cell \u001b[1;32mIn[37], line 1\u001b[0m\n\u001b[1;32m----> 1\u001b[0m \u001b[38;5;28;01mfor\u001b[39;00m col \u001b[38;5;129;01min\u001b[39;00m \u001b[43mnumerical_cols\u001b[49m:\n\u001b[0;32m      2\u001b[0m     Q1 \u001b[38;5;241m=\u001b[39m df_sampled[col]\u001b[38;5;241m.\u001b[39mquantile(\u001b[38;5;241m0.25\u001b[39m)\n\u001b[0;32m      3\u001b[0m     Q3 \u001b[38;5;241m=\u001b[39m df_sampled[col]\u001b[38;5;241m.\u001b[39mquantile(\u001b[38;5;241m0.75\u001b[39m)\n",
      "\u001b[1;31mNameError\u001b[0m: name 'numerical_cols' is not defined"
     ]
    }
   ],
   "source": [
    "for col in numerical_cols:\n",
    "    Q1 = df_sampled[col].quantile(0.25)\n",
    "    Q3 = df_sampled[col].quantile(0.75)\n",
    "    IQR = Q3 - Q1\n",
    "\n",
    "    lower_bound = Q1 - 1.5 * IQR\n",
    "    upper_bound = Q3 + 1.5 * IQR\n",
    "\n",
    "    df_sampled = df_sampled[(df_sampled[col] >= lower_bound) & (df_sampled[col] <= upper_bound)]\n"
   ]
  },
  {
   "cell_type": "code",
   "execution_count": 38,
   "id": "96aa61d6-14c2-4705-a612-61f01702174f",
   "metadata": {},
   "outputs": [],
   "source": [
    "def evaluate_model(model):\n",
    "    X_train, X_test, y_train, y_test  = train_test_split(X, y, test_size = 0.2, random_state = 42)\n",
    "    model.fit(X_train, y_train)\n",
    "    y_pred = model.predict(X_test)\n",
    "    accuracy = accuracy_score(y_test, y_pred)\n",
    "    cross_val = cross_val_score(model, X, y, cv=5)\n",
    "    avg_cross_val = np.mean(cross_val)\n",
    "    print(f\"{model.__class__.__name__} - Accuarcy : {accuracy: .2f} , Cross-Val-Score: {avg_cross_val: .2f}\")\n",
    "    return avg_cross_val"
   ]
  },
  {
   "cell_type": "code",
   "execution_count": 39,
   "id": "ca43e4e6-44e6-40b6-a5d9-b467f9fa640b",
   "metadata": {},
   "outputs": [],
   "source": [
    "models = {\n",
    "    GradientBoostingClassifier(), \n",
    "}"
   ]
  },
  {
   "cell_type": "code",
   "execution_count": null,
   "id": "7f027e69-5ce7-4a92-8e2f-83a996b4d501",
   "metadata": {},
   "outputs": [],
   "source": [
    "model_score = {model.__class__.__name__:evaluate_model(model) for model in models}"
   ]
  },
  {
   "cell_type": "code",
   "execution_count": null,
   "id": "f7df7b5b-73d1-4f9a-bcfd-e3226e59567e",
   "metadata": {},
   "outputs": [],
   "source": [
    "def tune_model(model, param_grid):\n",
    "    tuner = RandomizedSearchCV(model, param_grid, cv = 5, n_iter =20, verbose = True, random_state = 42)\n",
    "    tuner.fit(X, y)\n",
    "    print(f\"Best Score for {model.__class__.__name__}: {tuner.best_score_:.2f}\")\n",
    "    print(f\"Best Parameter for {model.__class__.__name__}: {tuner.best_params_}\")\n",
    "    return tuner.best_estimator_"
   ]
  },
  {
   "cell_type": "code",
   "execution_count": null,
   "id": "a69838f7-4ae8-44fc-85f3-3d45761f6e0a",
   "metadata": {},
   "outputs": [],
   "source": [
    "from sklearn.ensemble import GradientBoostingClassifier\n",
    "from sklearn.model_selection import train_test_split\n",
    "\n",
    "# Define and train model\n",
    "gbm_grid = {\n",
    "    'n_estimators': [100, 200, 300],\n",
    "    'learning_rate': [0.01, 0.05, 0.1],\n",
    "    'max_depth': [3, 5, 7],\n",
    "    'min_samples_split': [2, 5, 10],\n",
    "    'min_samples_leaf': [1, 2, 4]\n",
    "}"
   ]
  },
  {
   "cell_type": "code",
   "execution_count": null,
   "id": "7b7c3e10-eaae-4781-985a-d2da37582b26",
   "metadata": {},
   "outputs": [],
   "source": [
    "best_gbm = tune_model(GradientBoostingClassifier(), gbm_grid)\n",
    "final_model = best_gbm  # Assign best Gradient Boosting model\n"
   ]
  },
  {
   "cell_type": "code",
   "execution_count": null,
   "id": "e74cdbbf-aa73-4a39-bbac-91fc8a528148",
   "metadata": {},
   "outputs": [],
   "source": [
    "joblib.dump(final_model, 'loan_status_prediction.pkl')"
   ]
  },
  {
   "cell_type": "code",
   "execution_count": null,
   "id": "42000c54-a0d4-4bdd-8d87-5a619ab83cf1",
   "metadata": {},
   "outputs": [],
   "source": [
    "# Prediction System\n",
    "\n",
    "sample_data = pd.DataFrame({\n",
    "    'EDUCATION_STATUS' : [0] ,\n",
    "    'APPLICANT_INCOME' : [1000],\n",
    "    'HOUSING_TYPE_CATEGORY' : [1],\n",
    "    'COAPPLICANT_INCOME' : [0.0],\n",
    "    'DEPENDENTS' : [2], \n",
    "    'CREDIT_HISTORY_INDICATOR' : [0],\n",
    "    'MARRIED_STATUS' : [1],\n",
    "    'INCOME_TYPE_CATEGORY' : [0], \n",
    "    'AMT_CREDIT_y' : [150],\n",
    "    'CODE_GENDER_ENCODED' : [1],\n",
    "    'CNT_PAYMENT' : [180]\n",
    "\n",
    "})\n",
    "\n",
    "sample_data[num_cols] = scaler.transform(sample_data[num_cols])\n",
    "loaded_model = joblib.load('loan_status_prediction.pkl')\n",
    "prediction = loaded_model.predict(sample_data)\n",
    "\n",
    "result = \"Loan Approved\" if prediction[0] == 1 else \"Loan Not Approved\"\n",
    "print(f\"\\nPrediction Result: {result}\")"
   ]
  },
  {
   "cell_type": "code",
   "execution_count": null,
   "id": "3cddd407-45de-4232-958b-b419ce7e7a35",
   "metadata": {},
   "outputs": [],
   "source": [
    "df_sampled.columns"
   ]
  },
  {
   "cell_type": "code",
   "execution_count": null,
   "id": "05fc4db1-7656-4b93-afe7-fcd2cb1631ee",
   "metadata": {},
   "outputs": [],
   "source": [
    "print(scaler.feature_names_in_)\n"
   ]
  },
  {
   "cell_type": "code",
   "execution_count": null,
   "id": "c42ba56f-af38-4bd0-bf76-2f9cb63c9f54",
   "metadata": {},
   "outputs": [],
   "source": []
  }
 ],
 "metadata": {
  "kernelspec": {
   "display_name": "Python 3 (ipykernel)",
   "language": "python",
   "name": "python3"
  },
  "language_info": {
   "codemirror_mode": {
    "name": "ipython",
    "version": 3
   },
   "file_extension": ".py",
   "mimetype": "text/x-python",
   "name": "python",
   "nbconvert_exporter": "python",
   "pygments_lexer": "ipython3",
   "version": "3.12.4"
  }
 },
 "nbformat": 4,
 "nbformat_minor": 5
}
